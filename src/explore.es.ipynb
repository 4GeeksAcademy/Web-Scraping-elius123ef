{
    "cells": [
        {
            "cell_type": "markdown",
            "metadata": {},
            "source": [
                "# Explora aquí\n",
                "\n",
                "Se recomienda utilizar este cuaderno con fines de exploración."
            ]
        },
        {
            "cell_type": "code",
            "execution_count": 1,
            "metadata": {},
            "outputs": [],
            "source": [
                "import os\n",
                "from bs4 import BeautifulSoup\n",
                "import requests\n",
                "import time\n",
                "import sqlite3\n",
                "import matplotlib.pyplot as plt\n",
                "import seaborn as sns\n",
                "import csv\n",
                "from selenium import webdriver\n",
                "from selenium.webdriver.chrome.options import Options\n",
                "from bs4 import BeautifulSoup\n",
                "import time\n"
            ]
        },
        {
            "cell_type": "code",
            "execution_count": 2,
            "metadata": {},
            "outputs": [],
            "source": [
                "\n",
                "agent = 'Mozilla/5.0 (Windows NT 10.0; Win64; x64) AppleWebKit/537.36 (KHTML, like Gecko) Chrome/91.0.4472.124 Safari/537.36'\n",
                "headers = {\"User-Agent\": agent}\n"
            ]
        },
        {
            "cell_type": "code",
            "execution_count": 3,
            "metadata": {},
            "outputs": [],
            "source": [
                "base_url = \"https://books.toscrape.com/catalogue/page-{}.html\""
            ]
        },
        {
            "cell_type": "code",
            "execution_count": 4,
            "metadata": {},
            "outputs": [],
            "source": [
                "\n",
                "url = base_url\n",
                "response = requests.get(url)\n",
                "soup = BeautifulSoup(response.text, \"html.parser\")\n"
            ]
        },
        {
            "cell_type": "code",
            "execution_count": 5,
            "metadata": {},
            "outputs": [
                {
                    "data": {
                        "text/plain": [
                            "[]"
                        ]
                    },
                    "execution_count": 5,
                    "metadata": {},
                    "output_type": "execute_result"
                }
            ],
            "source": [
                "\n",
                "books = soup.find_all('article', class_=\"product_pod\")\n",
                "list_books = []\n",
                "for book in books:\n",
                "    title = book.h3.a['title']\n",
                "    price = book.find(\"p\", class_=\"price_color\").text.strip()\n",
                "    price = price.replace(\"Â£\", \"\")\n",
                "    list_books.append({'title': title,\n",
                "                       'price': float(price)})\n",
                "\n",
                "list_books"
            ]
        }
    ],
    "metadata": {
        "kernelspec": {
            "display_name": "Python 3",
            "language": "python",
            "name": "python3"
        },
        "language_info": {
            "codemirror_mode": {
                "name": "ipython",
                "version": 3
            },
            "file_extension": ".py",
            "mimetype": "text/x-python",
            "name": "python",
            "nbconvert_exporter": "python",
            "pygments_lexer": "ipython3",
            "version": "3.11.4"
        },
        "orig_nbformat": 4
    },
    "nbformat": 4,
    "nbformat_minor": 2
}
